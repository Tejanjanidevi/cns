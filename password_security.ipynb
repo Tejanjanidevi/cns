{
  "nbformat": 4,
  "nbformat_minor": 0,
  "metadata": {
    "colab": {
      "provenance": [],
      "authorship_tag": "ABX9TyP9A5cnFoyzpK4Cfe5BCugq",
      "include_colab_link": true
    },
    "kernelspec": {
      "name": "python3",
      "display_name": "Python 3"
    },
    "language_info": {
      "name": "python"
    }
  },
  "cells": [
    {
      "cell_type": "markdown",
      "metadata": {
        "id": "view-in-github",
        "colab_type": "text"
      },
      "source": [
        "<a href=\"https://colab.research.google.com/github/Tejanjanidevi/cns/blob/main/password_security.ipynb\" target=\"_parent\"><img src=\"https://colab.research.google.com/assets/colab-badge.svg\" alt=\"Open In Colab\"/></a>"
      ]
    },
    {
      "cell_type": "code",
      "source": [
        "pip install bcrypt"
      ],
      "metadata": {
        "colab": {
          "base_uri": "https://localhost:8080/"
        },
        "id": "AbjwJbmIIGqK",
        "outputId": "810e55fb-2468-41a3-c0cd-2c30c4b4237b"
      },
      "execution_count": 1,
      "outputs": [
        {
          "output_type": "stream",
          "name": "stdout",
          "text": [
            "Collecting bcrypt\n",
            "  Downloading bcrypt-4.3.0-cp39-abi3-manylinux_2_34_x86_64.whl.metadata (10 kB)\n",
            "Downloading bcrypt-4.3.0-cp39-abi3-manylinux_2_34_x86_64.whl (284 kB)\n",
            "\u001b[2K   \u001b[90m━━━━━━━━━━━━━━━━━━━━━━━━━━━━━━━━━━━━━━━━\u001b[0m \u001b[32m284.2/284.2 kB\u001b[0m \u001b[31m6.3 MB/s\u001b[0m eta \u001b[36m0:00:00\u001b[0m\n",
            "\u001b[?25hInstalling collected packages: bcrypt\n",
            "Successfully installed bcrypt-4.3.0\n"
          ]
        }
      ]
    },
    {
      "cell_type": "code",
      "source": [
        "import bcrypt; print('bcrypt is installed!')"
      ],
      "metadata": {
        "colab": {
          "base_uri": "https://localhost:8080/"
        },
        "id": "uVth-X94IThR",
        "outputId": "2764e171-2627-4771-e208-65ac95625e8a"
      },
      "execution_count": 2,
      "outputs": [
        {
          "output_type": "stream",
          "name": "stdout",
          "text": [
            "bcrypt is installed!\n"
          ]
        }
      ]
    },
    {
      "cell_type": "code",
      "source": [
        "import bcrypt\n",
        "import json\n",
        "import os\n",
        "import getpass\n",
        "\n",
        "DB_FILE = \"users.json\"\n",
        "\n",
        "def load_users():\n",
        "    \"\"\" Load user database from a JSON file. \"\"\"\n",
        "    if not os.path.exists(DB_FILE):\n",
        "        return {}\n",
        "    try:\n",
        "        with open(DB_FILE, \"r\") as file:\n",
        "            return json.load(file)\n",
        "    except json.JSONDecodeError:\n",
        "        return {}\n",
        "\n",
        "def save_users(users):\n",
        "    \"\"\" Save user database to a JSON file. \"\"\"\n",
        "    try:\n",
        "        with open(DB_FILE, \"w\") as file:\n",
        "            json.dump(users, file, indent=4)\n",
        "    except Exception as e:\n",
        "        print(f\"Error saving user data: {e}\")\n",
        "\n",
        "def hash_password(password):\n",
        "    \"\"\" Hash a password using bcrypt with salting. \"\"\"\n",
        "    salt = bcrypt.gensalt(rounds=12)  # Increase work factor for better security\n",
        "    hashed = bcrypt.hashpw(password.encode(), salt)\n",
        "    return hashed.decode()\n",
        "\n",
        "def register_user():\n",
        "    \"\"\" Register a new user with a hashed password. \"\"\"\n",
        "    users = load_users()\n",
        "    username = input(\"Enter username: \").strip()\n",
        "\n",
        "    if not username:\n",
        "        print(\"Username cannot be empty.\")\n",
        "        return\n",
        "\n",
        "    if username in users:\n",
        "        print(\"Username already exists. Try a different one.\")\n",
        "        return\n",
        "\n",
        "    password = getpass.getpass(\"Enter password: \").strip()\n",
        "    confirm_password = getpass.getpass(\"Confirm password: \").strip()\n",
        "\n",
        "    if not password:\n",
        "        print(\"Password cannot be empty.\")\n",
        "        return\n",
        "\n",
        "    if password != confirm_password:\n",
        "        print(\"Passwords do not match! Try again.\")\n",
        "        return\n",
        "\n",
        "    hashed_password = hash_password(password)\n",
        "\n",
        "    users[username] = hashed_password\n",
        "    save_users(users)\n",
        "    print(\"✅ User registered successfully!\")\n",
        "\n",
        "def verify_password(stored_hash, password):\n",
        "    \"\"\" Verify if a given password matches the stored hash. \"\"\"\n",
        "    return bcrypt.checkpw(password.encode(), stored_hash.encode())\n",
        "\n",
        "def login_user():\n",
        "    \"\"\" Authenticate a user by verifying their hashed password. \"\"\"\n",
        "    users = load_users()\n",
        "    username = input(\"Enter username: \").strip()\n",
        "\n",
        "    if username not in users:\n",
        "        print(\"User not found! Please register first.\")\n",
        "        return\n",
        "\n",
        "    password = getpass.getpass(\"Enter password: \").strip()\n",
        "\n",
        "    if verify_password(users[username], password):\n",
        "        print(f\"✅ Login successful! Welcome, {username}.\")\n",
        "    else:\n",
        "        print(\"❌ Incorrect password. Access denied.\")\n",
        "\n",
        "def main():\n",
        "    while True:\n",
        "        print(\"\\n1. Register User\")\n",
        "        print(\"2. Login\")\n",
        "        print(\"3. Exit\")\n",
        "\n",
        "        choice = input(\"Select an option: \").strip()\n",
        "\n",
        "        if choice == \"1\":\n",
        "            register_user()\n",
        "        elif choice == \"2\":\n",
        "            login_user()\n",
        "        elif choice == \"3\":\n",
        "            print(\"🔒 Exiting program.\")\n",
        "            break\n",
        "        else:\n",
        "            print(\"❌ Invalid choice. Try again.\")\n",
        "\n",
        "if __name__ == \"__main__\":\n",
        "    main()\n"
      ],
      "metadata": {
        "colab": {
          "base_uri": "https://localhost:8080/"
        },
        "id": "knFMFfuAIG2D",
        "outputId": "56c4980c-ab30-4648-89b0-0fa1fc1866a3"
      },
      "execution_count": 3,
      "outputs": [
        {
          "output_type": "stream",
          "name": "stdout",
          "text": [
            "\n",
            "1. Register User\n",
            "2. Login\n",
            "3. Exit\n",
            "Select an option: 1\n",
            "Enter username: teja\n",
            "Enter password: ··········\n",
            "Confirm password: ··········\n",
            "✅ User registered successfully!\n",
            "\n",
            "1. Register User\n",
            "2. Login\n",
            "3. Exit\n",
            "Select an option: 2\n",
            "Enter username: teja\n",
            "Enter password: ··········\n",
            "❌ Incorrect password. Access denied.\n",
            "\n",
            "1. Register User\n",
            "2. Login\n",
            "3. Exit\n",
            "Select an option: 2\n",
            "Enter username: teju\n",
            "User not found! Please register first.\n",
            "\n",
            "1. Register User\n",
            "2. Login\n",
            "3. Exit\n",
            "Select an option: 3\n",
            "🔒 Exiting program.\n"
          ]
        }
      ]
    }
  ]
}